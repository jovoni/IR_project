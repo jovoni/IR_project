{
 "cells": [
  {
   "cell_type": "code",
   "execution_count": 1,
   "metadata": {},
   "outputs": [],
   "source": [
    "from functools import total_ordering, reduce\n",
    "import csv\n",
    "import re\n",
    "import pandas as pd\n",
    "import gensim\n",
    "import math\n",
    "import json\n",
    "import pandas as pd"
   ]
  },
  {
   "cell_type": "code",
   "execution_count": 27,
   "metadata": {},
   "outputs": [],
   "source": [
    "def vectorize(docID, vocab):\n",
    "    vector = [0] * len(vocab)\n",
    "    text = preprocess_doc(docs[docID])\n",
    "    for t in tokenize(text):\n",
    "        idx = vocab.index(t)\n",
    "        vector[idx] = postings[t][docID] * vocab_idf[t]\n",
    "    print(vector)\n",
    "    \n",
    "def CosineScore(q, docs, vocab_idf, postings):\n",
    "    scores = [0 for d in docs]\n",
    "    lenght = [len(d) for d in docs]\n",
    "    for t in tokenize(q):\n",
    "        if t in vocab_idf:\n",
    "            w = vocab_idf[t]\n",
    "            posting_list = postings[t]\n",
    "            for doc, term_freq in posting_list.items():\n",
    "                scores[doc] += w * term_freq\n",
    "    scores = [scores[i] / lenght[i] for i in range(len(scores))]\n",
    "    return scores        "
   ]
  },
  {
   "cell_type": "code",
   "execution_count": 14,
   "metadata": {},
   "outputs": [],
   "source": [
    "df = pd.read_csv(\"wiki_movie.csv\")\n",
    "docs = df[\"Plot\"]\n",
    "docs = docs[:1000]"
   ]
  },
  {
   "cell_type": "code",
   "execution_count": 15,
   "metadata": {},
   "outputs": [],
   "source": [
    "to_lower = lambda x: x.lower()\n",
    "\n",
    "def clean_text(text):\n",
    "    text=re.sub('\\w*\\d\\w*','', text)\n",
    "    text=re.sub('\\n',' ',text)\n",
    "    text=re.sub(r\"http\\S+\", \"\", text)\n",
    "    text=re.sub('[^a-z]',' ',text)\n",
    "    return text\n",
    "\n",
    "remove_extra_spaces = lambda x: re.sub(' +',' ',x)\n",
    "\n",
    "def tokenize(text):\n",
    "    return list(text.split())\n",
    "\n",
    "def preprocess_doc(d):\n",
    "    return remove_extra_spaces(clean_text(to_lower(d)))\n",
    "\n",
    "def preprocess_query(q):\n",
    "    return remove_extra_spaces(clean_text(to_lower(q)))"
   ]
  },
  {
   "cell_type": "code",
   "execution_count": 16,
   "metadata": {},
   "outputs": [
    {
     "name": "stdout",
     "output_type": "stream",
     "text": [
      "processed 0 docs\n",
      "processed 100 docs\n",
      "processed 200 docs\n",
      "processed 300 docs\n",
      "processed 400 docs\n",
      "processed 500 docs\n",
      "processed 600 docs\n",
      "processed 700 docs\n",
      "processed 800 docs\n",
      "processed 900 docs\n"
     ]
    }
   ],
   "source": [
    "vocab = []\n",
    "postings = {}\n",
    "\n",
    "for i, d in enumerate(docs):\n",
    "    if i % 100 == 0:\n",
    "        print(f\"processed {i} docs\")\n",
    "    processed_d = preprocess_doc(d)\n",
    "    words = tokenize(processed_d)\n",
    "    for word in words:\n",
    "        if word not in vocab:\n",
    "            vocab.append(word)\n",
    "        wordId = vocab.index(word)\n",
    "        wordId = word\n",
    "        if wordId not in postings:\n",
    "            postings[wordId] = {i:1}\n",
    "        else:\n",
    "            if i in postings[wordId]:\n",
    "                postings[wordId][i] += 1\n",
    "            else:\n",
    "                postings[wordId][i] = 1"
   ]
  },
  {
   "cell_type": "code",
   "execution_count": 24,
   "metadata": {},
   "outputs": [
    {
     "name": "stdout",
     "output_type": "stream",
     "text": [
      "16192\n"
     ]
    }
   ],
   "source": [
    "print(len(vocab))"
   ]
  },
  {
   "cell_type": "code",
   "execution_count": 28,
   "metadata": {},
   "outputs": [],
   "source": [
    "vocab_idf = {}\n",
    "N = len(docs)\n",
    "\n",
    "for v in vocab:\n",
    "    vocab_idf[v] = math.log(N / len(postings[v]), 10)"
   ]
  },
  {
   "cell_type": "code",
   "execution_count": 29,
   "metadata": {},
   "outputs": [
    {
     "name": "stdout",
     "output_type": "stream",
     "text": [
      "bartender with a beer\n"
     ]
    }
   ],
   "source": [
    "myquery = \"bartender with a beer\"\n",
    "q = preprocess_query(myquery)\n",
    "print(q)"
   ]
  },
  {
   "cell_type": "code",
   "execution_count": 32,
   "metadata": {},
   "outputs": [
    {
     "name": "stdout",
     "output_type": "stream",
     "text": [
      "1000\n"
     ]
    }
   ],
   "source": [
    "scores = CosineScore(q, docs, vocab_idf, postings)"
   ]
  }
 ],
 "metadata": {
  "kernelspec": {
   "display_name": "Python 3",
   "language": "python",
   "name": "python3"
  },
  "language_info": {
   "codemirror_mode": {
    "name": "ipython",
    "version": 3
   },
   "file_extension": ".py",
   "mimetype": "text/x-python",
   "name": "python",
   "nbconvert_exporter": "python",
   "pygments_lexer": "ipython3",
   "version": "3.8.5"
  }
 },
 "nbformat": 4,
 "nbformat_minor": 4
}
