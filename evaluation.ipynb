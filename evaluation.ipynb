{
 "cells": [
  {
   "cell_type": "code",
   "execution_count": 1,
   "metadata": {},
   "outputs": [],
   "source": [
    "from preprocessing import *\n",
    "from vocabulary_and_postings import *\n",
    "from vectorization import *\n",
    "from scoring import *\n",
    "from proposal import *"
   ]
  },
  {
   "cell_type": "markdown",
   "metadata": {},
   "source": [
    "### LOAD DATASET"
   ]
  },
  {
   "cell_type": "code",
   "execution_count": 2,
   "metadata": {},
   "outputs": [],
   "source": [
    "### Processing DOCUMENTS\n",
    "doc_set = {}\n",
    "doc_id = \"\"\n",
    "doc_text = \"\"\n",
    "with open('CISI.ALL') as f:\n",
    "    lines = \"\"\n",
    "    for l in f.readlines():\n",
    "        lines += \"\\n\" + l.strip() if l.startswith(\".\") else \" \" + l.strip()\n",
    "    lines = lines.lstrip(\"\\n\").split(\"\\n\")\n",
    "doc_count = 0\n",
    "for l in lines:\n",
    "    if l.startswith(\".I\"):\n",
    "        doc_id = int(l.split(\" \")[1].strip())-1\n",
    "    elif l.startswith(\".X\"):\n",
    "        doc_set[doc_id] = doc_text.lstrip(\" \")\n",
    "        doc_id = \"\"\n",
    "        doc_text = \"\"\n",
    "    else:\n",
    "        doc_text += l.strip()[3:] + \" \" # The first 3 characters of a line can be ignored.    \n",
    "\n",
    "        \n",
    "### Processing QUERIES\n",
    "with open('CISI.QRY') as f:\n",
    "    lines = \"\"\n",
    "    for l in f.readlines():\n",
    "        lines += \"\\n\" + l.strip() if l.startswith(\".\") else \" \" + l.strip()\n",
    "    lines = lines.lstrip(\"\\n\").split(\"\\n\")\n",
    "    \n",
    "qry_set = {}\n",
    "qry_id = \"\"\n",
    "for l in lines:\n",
    "    if l.startswith(\".I\"):\n",
    "        qry_id = int(l.split(\" \")[1].strip()) -1\n",
    "    elif l.startswith(\".W\"):\n",
    "        qry_set[qry_id] = l.strip()[3:]\n",
    "        qry_id = \"\"\n",
    "\n",
    "### Processing QRELS\n",
    "rel_set = {}\n",
    "with open('CISI.REL') as f:\n",
    "    for l in f.readlines():\n",
    "        qry_id = int(l.lstrip(\" \").strip(\"\\n\").split(\"\\t\")[0].split(\" \")[0]) -1\n",
    "        doc_id = int(l.lstrip(\" \").strip(\"\\n\").split(\"\\t\")[0].split(\" \")[-1])-1\n",
    "        if qry_id in rel_set:\n",
    "            rel_set[qry_id].append(doc_id)\n",
    "        else:\n",
    "            rel_set[qry_id] = []\n",
    "            rel_set[qry_id].append(doc_id)"
   ]
  },
  {
   "cell_type": "markdown",
   "metadata": {},
   "source": [
    "#### DATASET INFO"
   ]
  },
  {
   "cell_type": "code",
   "execution_count": 3,
   "metadata": {},
   "outputs": [
    {
     "name": "stdout",
     "output_type": "stream",
     "text": [
      "Read 1460 documents, \n"
     ]
    }
   ],
   "source": [
    "print(f\"Read {len(doc_set)} documents, \")"
   ]
  },
  {
   "cell_type": "code",
   "execution_count": 14,
   "metadata": {},
   "outputs": [],
   "source": [
    "# EVALUATION\n",
    "def compute_MAP(relevance_set, proposed_set):\n",
    "    \"\"\"\n",
    "    Function that takes as input a set of relevant docs\n",
    "    for every query of tha dataset and the set of proposed\n",
    "    documents for every query with at least one relevant doc\n",
    "    \"\"\"\n",
    "    N = len(relevance_set)\n",
    "    MAP = 0\n",
    "    \n",
    "    for idx, relevant_docs in relevance_set.items():\n",
    "        AP = 0\n",
    "        mj = len(relevant_docs)\n",
    "        docs_proposed = proposed_set[idx]\n",
    "        for k in range(1, mj+1):\n",
    "            docs_proposed = proposed_set[idx][:k]\n",
    "            AP += len(set(relevant_docs).intersection(set(docs_proposed))) / k\n",
    "        MAP += AP / mj\n",
    "    return MAP / N"
   ]
  },
  {
   "cell_type": "markdown",
   "metadata": {},
   "source": [
    "### STOPWORDS NOT REMOVED, NO LEMMATIZATION"
   ]
  },
  {
   "cell_type": "code",
   "execution_count": 15,
   "metadata": {},
   "outputs": [
    {
     "name": "stdout",
     "output_type": "stream",
     "text": [
      "Vocabulary contains 10759 tokens\n",
      "0.21419977478749802\n",
      "0.19005105903050531\n",
      "0.21346134320237586\n",
      "0.42956595427696714\n"
     ]
    }
   ],
   "source": [
    "DO_LEMMATIZE = False\n",
    "DO_REMOVE_SW = False\n",
    "\n",
    "### Prepocess DOCS\n",
    "processed_docs_set = {}\n",
    "for docId, doc in doc_set.items():\n",
    "    processed_docs_set[docId] = preprocess_string(doc, remove_stop_words=DO_REMOVE_SW, lemmatize=DO_LEMMATIZE)\n",
    "    \n",
    "### Preprocess QUERY\n",
    "processed_qry_set = {}\n",
    "for qryId, qry in qry_set.items():\n",
    "    processed_qry_set[qryId] = preprocess_string(qry, remove_stop_words=DO_REMOVE_SW, lemmatize=DO_LEMMATIZE)\n",
    "    \n",
    "# Create vocabulary list and postings\n",
    "v, p = build_vocab_and_postings(processed_docs_set)\n",
    "# Create vocabulary with tokenId and inverse document frequency (idf)\n",
    "v_idf = build_vocab_with_idf(v, p, processed_docs_set)\n",
    "print(f\"Vocabulary contains {len(v)} tokens\")\n",
    "\n",
    "# VECTORIZE doc set and qry set\n",
    "vector_docs = {docID : vectorize_doc(docID, processed_docs_set, p, v_idf) for docID in processed_docs_set.keys()}\n",
    "#vector_queries = {qId : vectorize_query(q, v) for qId, q in processed_qry_set.items()}\n",
    "\n",
    "# STANDARD PROPOSAL\n",
    "proposed_docs = {}\n",
    "for idx, relevant_docs in rel_set.items():\n",
    "    q = qry_set[idx]\n",
    "    prop_docs = propose_docs(q, len(relevant_docs), vector_docs, v, DO_REMOVE_SW, DO_LEMMATIZE)\n",
    "    proposed_docs[idx] = prop_docs\n",
    "print(compute_MAP(rel_set, proposed_docs))\n",
    "\n",
    "# PSEUDO RELEVANCE FEEDBACK\n",
    "pseudo_proposed_docs = {}\n",
    "for idx, relevant_docs in rel_set.items():\n",
    "    q = qry_set[idx]\n",
    "    prop_docs = propose_docs_with_pseudo_relevance(q, len(relevant_docs), vector_docs, p, v, v_idf, processed_docs_set, DO_REMOVE_SW, DO_LEMMATIZE)\n",
    "    pseudo_proposed_docs[idx] = prop_docs\n",
    "print(compute_MAP(rel_set, pseudo_proposed_docs))\n",
    "\n",
    "# PSEUDO RELEVANCE MOVING QUERY\n",
    "pseudo_proposed_docs = {}\n",
    "for idx, relevant_docs in rel_set.items():\n",
    "    q = qry_set[idx]\n",
    "    prop_docs = propose_docs_with_pseudo_relevance_moving_query(q, len(relevant_docs), vector_docs, v, DO_REMOVE_SW, DO_LEMMATIZE)\n",
    "    pseudo_proposed_docs[idx] = prop_docs\n",
    "print(compute_MAP(rel_set, pseudo_proposed_docs))\n",
    "\n",
    "# SMART FEEDBACK\n",
    "smart_feed_docs = {}\n",
    "for idx, relevant_docs in rel_set.items():\n",
    "    q = qry_set[idx]\n",
    "    prop_docs = propose_smart_feedback(q, len(relevant_docs), vector_docs, v, relevant_docs, DO_REMOVE_SW, DO_LEMMATIZE)\n",
    "    smart_feed_docs[idx] = prop_docs\n",
    "    \n",
    "print(compute_MAP(rel_set, smart_feed_docs))"
   ]
  },
  {
   "cell_type": "markdown",
   "metadata": {},
   "source": [
    "### STOPWORDS REMOVED, NO LEMMATIZATION"
   ]
  },
  {
   "cell_type": "code",
   "execution_count": 16,
   "metadata": {},
   "outputs": [
    {
     "name": "stdout",
     "output_type": "stream",
     "text": [
      "Vocabulary contains 10639 tokens\n",
      "0.22966438580721393\n",
      "0.21893699451188073\n",
      "0.2239540214499538\n",
      "0.4500351603167675\n"
     ]
    }
   ],
   "source": [
    "DO_LEMMATIZE = False\n",
    "DO_REMOVE_SW = True\n",
    "\n",
    "### Prepocess DOCS\n",
    "processed_docs_set = {}\n",
    "for docId, doc in doc_set.items():\n",
    "    processed_docs_set[docId] = preprocess_string(doc, remove_stop_words=DO_REMOVE_SW, lemmatize=DO_LEMMATIZE)\n",
    "    \n",
    "### Preprocess QUERY\n",
    "processed_qry_set = {}\n",
    "for qryId, qry in qry_set.items():\n",
    "    processed_qry_set[qryId] = preprocess_string(qry, remove_stop_words=DO_REMOVE_SW, lemmatize=DO_LEMMATIZE)\n",
    "    \n",
    "# Create vocabulary list and postings\n",
    "v, p = build_vocab_and_postings(processed_docs_set)\n",
    "# Create vocabulary with tokenId and inverse document frequency (idf)\n",
    "v_idf = build_vocab_with_idf(v, p, processed_docs_set)\n",
    "print(f\"Vocabulary contains {len(v)} tokens\")\n",
    "\n",
    "# VECTORIZE doc set and qry set\n",
    "vector_docs = {docID : vectorize_doc(docID, processed_docs_set, p, v_idf) for docID in processed_docs_set.keys()}\n",
    "#vector_queries = {qId : vectorize_query(q, v) for qId, q in processed_qry_set.items()}\n",
    "\n",
    "# STANDARD PROPOSAL\n",
    "proposed_docs = {}\n",
    "for idx, relevant_docs in rel_set.items():\n",
    "    q = qry_set[idx]\n",
    "    prop_docs = propose_docs(q, len(relevant_docs), vector_docs, v, DO_REMOVE_SW, DO_LEMMATIZE)\n",
    "    proposed_docs[idx] = prop_docs\n",
    "print(compute_MAP(rel_set, proposed_docs))\n",
    "\n",
    "# PSEUDO RELEVANCE FEEDBACK\n",
    "pseudo_proposed_docs = {}\n",
    "for idx, relevant_docs in rel_set.items():\n",
    "    q = qry_set[idx]\n",
    "    prop_docs = propose_docs_with_pseudo_relevance(q, len(relevant_docs), vector_docs, p, v, v_idf, processed_docs_set, DO_REMOVE_SW, DO_LEMMATIZE)\n",
    "    pseudo_proposed_docs[idx] = prop_docs\n",
    "print(compute_MAP(rel_set, pseudo_proposed_docs))\n",
    "\n",
    "# PSEUDO RELEVANCE MOVING QUERY\n",
    "pseudo_proposed_docs = {}\n",
    "for idx, relevant_docs in rel_set.items():\n",
    "    q = qry_set[idx]\n",
    "    prop_docs = propose_docs_with_pseudo_relevance_moving_query(q, len(relevant_docs), vector_docs, v, DO_REMOVE_SW, DO_LEMMATIZE)\n",
    "    pseudo_proposed_docs[idx] = prop_docs\n",
    "print(compute_MAP(rel_set, pseudo_proposed_docs))\n",
    "\n",
    "# SMART FEEDBACK\n",
    "smart_feed_docs = {}\n",
    "for idx, relevant_docs in rel_set.items():\n",
    "    q = qry_set[idx]\n",
    "    prop_docs = propose_smart_feedback(q, len(relevant_docs), vector_docs, v, relevant_docs, DO_REMOVE_SW, DO_LEMMATIZE)\n",
    "    smart_feed_docs[idx] = prop_docs\n",
    "    \n",
    "print(compute_MAP(rel_set, smart_feed_docs))"
   ]
  },
  {
   "cell_type": "markdown",
   "metadata": {},
   "source": [
    "### STOPWORDS REMOVED AND LEMMATIZATION"
   ]
  },
  {
   "cell_type": "code",
   "execution_count": 17,
   "metadata": {},
   "outputs": [
    {
     "name": "stdout",
     "output_type": "stream",
     "text": [
      "Vocabulary contains 6773 tokens\n",
      "0.2620603235011236\n",
      "0.22573472280367513\n",
      "0.2601768574580408\n",
      "0.48041901242368523\n"
     ]
    }
   ],
   "source": [
    "DO_LEMMATIZE = True\n",
    "DO_REMOVE_SW = True\n",
    "\n",
    "### Prepocess DOCS\n",
    "processed_docs_set = {}\n",
    "for docId, doc in doc_set.items():\n",
    "    processed_docs_set[docId] = preprocess_string(doc, remove_stop_words=DO_REMOVE_SW, lemmatize=DO_LEMMATIZE)\n",
    "    \n",
    "### Preprocess QUERY\n",
    "processed_qry_set = {}\n",
    "for qryId, qry in qry_set.items():\n",
    "    processed_qry_set[qryId] = preprocess_string(qry, remove_stop_words=DO_REMOVE_SW, lemmatize=DO_LEMMATIZE)\n",
    "    \n",
    "# Create vocabulary list and postings\n",
    "v, p = build_vocab_and_postings(processed_docs_set)\n",
    "# Create vocabulary with tokenId and inverse document frequency (idf)\n",
    "v_idf = build_vocab_with_idf(v, p, processed_docs_set)\n",
    "print(f\"Vocabulary contains {len(v)} tokens\")\n",
    "\n",
    "# VECTORIZE doc set and qry set\n",
    "vector_docs = {docID : vectorize_doc(docID, processed_docs_set, p, v_idf) for docID in processed_docs_set.keys()}\n",
    "#vector_queries = {qId : vectorize_query(q, v) for qId, q in processed_qry_set.items()}\n",
    "\n",
    "# STANDARD PROPOSAL\n",
    "proposed_docs = {}\n",
    "for idx, relevant_docs in rel_set.items():\n",
    "    q = qry_set[idx]\n",
    "    prop_docs = propose_docs(q, len(relevant_docs), vector_docs, v, DO_REMOVE_SW, DO_LEMMATIZE)\n",
    "    proposed_docs[idx] = prop_docs\n",
    "print(compute_MAP(rel_set, proposed_docs))\n",
    "\n",
    "# PSEUDO RELEVANCE FEEDBACK\n",
    "pseudo_proposed_docs = {}\n",
    "for idx, relevant_docs in rel_set.items():\n",
    "    q = qry_set[idx]\n",
    "    prop_docs = propose_docs_with_pseudo_relevance(q, len(relevant_docs), vector_docs, p, v, v_idf, processed_docs_set, DO_REMOVE_SW, DO_LEMMATIZE)\n",
    "    pseudo_proposed_docs[idx] = prop_docs\n",
    "print(compute_MAP(rel_set, pseudo_proposed_docs))\n",
    "\n",
    "# PSEUDO RELEVANCE MOVING QUERY\n",
    "pseudo_proposed_docs = {}\n",
    "for idx, relevant_docs in rel_set.items():\n",
    "    q = qry_set[idx]\n",
    "    prop_docs = propose_docs_with_pseudo_relevance_moving_query(q, len(relevant_docs), vector_docs, v, DO_REMOVE_SW, DO_LEMMATIZE)\n",
    "    pseudo_proposed_docs[idx] = prop_docs\n",
    "print(compute_MAP(rel_set, pseudo_proposed_docs))\n",
    "\n",
    "# SMART FEEDBACK\n",
    "smart_feed_docs = {}\n",
    "for idx, relevant_docs in rel_set.items():\n",
    "    q = qry_set[idx]\n",
    "    prop_docs = propose_smart_feedback(q, len(relevant_docs), vector_docs, v, relevant_docs, DO_REMOVE_SW, DO_LEMMATIZE)\n",
    "    smart_feed_docs[idx] = prop_docs\n",
    "    \n",
    "print(compute_MAP(rel_set, smart_feed_docs))"
   ]
  }
 ],
 "metadata": {
  "kernelspec": {
   "display_name": "Python 3",
   "language": "python",
   "name": "python3"
  },
  "language_info": {
   "codemirror_mode": {
    "name": "ipython",
    "version": 3
   },
   "file_extension": ".py",
   "mimetype": "text/x-python",
   "name": "python",
   "nbconvert_exporter": "python",
   "pygments_lexer": "ipython3",
   "version": "3.8.5"
  }
 },
 "nbformat": 4,
 "nbformat_minor": 4
}
